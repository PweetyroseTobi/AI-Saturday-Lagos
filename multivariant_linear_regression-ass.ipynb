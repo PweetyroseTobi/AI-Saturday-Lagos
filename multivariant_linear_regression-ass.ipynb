{
 "cells": [
  {
   "cell_type": "markdown",
   "metadata": {},
   "source": [
    "\n",
    "##  <center>Multivariant Linear Regression from scratch.</center>"
   ]
  },
  {
   "cell_type": "markdown",
   "metadata": {},
   "source": [
    "------------------"
   ]
  },
  {
   "cell_type": "markdown",
   "metadata": {},
   "source": [
    "The data we will be using is a ex1data2.txt file which contains a list of bedroom sizes, number of bedrooms and their corresponding price of the house.\n",
    "\n",
    "The values on the <strong>first column</strong> contains the <strong>bedroom sizes</strong>, the values of the <strong>second column</strong> contains the <strong>number of bedrooms</strong> and values on the <strong>third column</strong> contains the corresponding <strong>price</strong> of the house in Naira.\n",
    "\n",
    "<strong>Objective</strong>: To build a multivariate linear regression model and the optimization technique to generate a model that will predict reasonable estimate of a house price when it is supplied the customers desired room size and number of rooms."
   ]
  },
  {
   "cell_type": "markdown",
   "metadata": {},
   "source": [
    "## 1. Loading Data"
   ]
  },
  {
   "cell_type": "code",
   "execution_count": 2,
   "metadata": {},
   "outputs": [],
   "source": [
    "''"
   ]
  },
  {
   "cell_type": "code",
   "execution_count": 8,
   "metadata": {},
   "outputs": [],
   "source": [
    "# Loading dataset\n",
    "column_names = [\"size\",\"bedroom\",\"price\"]\n",
    "data = pd.read_csv('data/ex1data2.txt', names = column_names)"
   ]
  },
  {
   "cell_type": "markdown",
   "metadata": {},
   "source": [
    "- Display 5 random samples"
   ]
  },
  {
   "cell_type": "code",
   "execution_count": 9,
   "metadata": {},
   "outputs": [
    {
     "data": {
      "text/html": [
       "<div>\n",
       "<style scoped>\n",
       "    .dataframe tbody tr th:only-of-type {\n",
       "        vertical-align: middle;\n",
       "    }\n",
       "\n",
       "    .dataframe tbody tr th {\n",
       "        vertical-align: top;\n",
       "    }\n",
       "\n",
       "    .dataframe thead th {\n",
       "        text-align: right;\n",
       "    }\n",
       "</style>\n",
       "<table border=\"1\" class=\"dataframe\">\n",
       "  <thead>\n",
       "    <tr style=\"text-align: right;\">\n",
       "      <th></th>\n",
       "      <th>size</th>\n",
       "      <th>bedroom</th>\n",
       "      <th>price</th>\n",
       "    </tr>\n",
       "  </thead>\n",
       "  <tbody>\n",
       "    <tr>\n",
       "      <th>16</th>\n",
       "      <td>1320</td>\n",
       "      <td>2</td>\n",
       "      <td>299900</td>\n",
       "    </tr>\n",
       "    <tr>\n",
       "      <th>19</th>\n",
       "      <td>3031</td>\n",
       "      <td>4</td>\n",
       "      <td>599000</td>\n",
       "    </tr>\n",
       "    <tr>\n",
       "      <th>12</th>\n",
       "      <td>1890</td>\n",
       "      <td>3</td>\n",
       "      <td>329999</td>\n",
       "    </tr>\n",
       "    <tr>\n",
       "      <th>2</th>\n",
       "      <td>2400</td>\n",
       "      <td>3</td>\n",
       "      <td>369000</td>\n",
       "    </tr>\n",
       "    <tr>\n",
       "      <th>1</th>\n",
       "      <td>1600</td>\n",
       "      <td>3</td>\n",
       "      <td>329900</td>\n",
       "    </tr>\n",
       "    <tr>\n",
       "      <th>30</th>\n",
       "      <td>1839</td>\n",
       "      <td>2</td>\n",
       "      <td>349900</td>\n",
       "    </tr>\n",
       "    <tr>\n",
       "      <th>39</th>\n",
       "      <td>2162</td>\n",
       "      <td>4</td>\n",
       "      <td>287000</td>\n",
       "    </tr>\n",
       "    <tr>\n",
       "      <th>45</th>\n",
       "      <td>1852</td>\n",
       "      <td>4</td>\n",
       "      <td>299900</td>\n",
       "    </tr>\n",
       "    <tr>\n",
       "      <th>25</th>\n",
       "      <td>1100</td>\n",
       "      <td>3</td>\n",
       "      <td>249900</td>\n",
       "    </tr>\n",
       "    <tr>\n",
       "      <th>15</th>\n",
       "      <td>2300</td>\n",
       "      <td>4</td>\n",
       "      <td>449900</td>\n",
       "    </tr>\n",
       "  </tbody>\n",
       "</table>\n",
       "</div>"
      ],
      "text/plain": [
       "    size  bedroom   price\n",
       "16  1320        2  299900\n",
       "19  3031        4  599000\n",
       "12  1890        3  329999\n",
       "2   2400        3  369000\n",
       "1   1600        3  329900\n",
       "30  1839        2  349900\n",
       "39  2162        4  287000\n",
       "45  1852        4  299900\n",
       "25  1100        3  249900\n",
       "15  2300        4  449900"
      ]
     },
     "execution_count": 9,
     "metadata": {},
     "output_type": "execute_result"
    }
   ],
   "source": [
    "data.sample(10)"
   ]
  },
  {
   "cell_type": "code",
   "execution_count": 10,
   "metadata": {},
   "outputs": [
    {
     "data": {
      "text/html": [
       "<div>\n",
       "<style scoped>\n",
       "    .dataframe tbody tr th:only-of-type {\n",
       "        vertical-align: middle;\n",
       "    }\n",
       "\n",
       "    .dataframe tbody tr th {\n",
       "        vertical-align: top;\n",
       "    }\n",
       "\n",
       "    .dataframe thead th {\n",
       "        text-align: right;\n",
       "    }\n",
       "</style>\n",
       "<table border=\"1\" class=\"dataframe\">\n",
       "  <thead>\n",
       "    <tr style=\"text-align: right;\">\n",
       "      <th></th>\n",
       "      <th>size</th>\n",
       "      <th>bedroom</th>\n",
       "      <th>price</th>\n",
       "    </tr>\n",
       "  </thead>\n",
       "  <tbody>\n",
       "    <tr>\n",
       "      <th>0</th>\n",
       "      <td>2104</td>\n",
       "      <td>3</td>\n",
       "      <td>399900</td>\n",
       "    </tr>\n",
       "    <tr>\n",
       "      <th>1</th>\n",
       "      <td>1600</td>\n",
       "      <td>3</td>\n",
       "      <td>329900</td>\n",
       "    </tr>\n",
       "    <tr>\n",
       "      <th>2</th>\n",
       "      <td>2400</td>\n",
       "      <td>3</td>\n",
       "      <td>369000</td>\n",
       "    </tr>\n",
       "    <tr>\n",
       "      <th>3</th>\n",
       "      <td>1416</td>\n",
       "      <td>2</td>\n",
       "      <td>232000</td>\n",
       "    </tr>\n",
       "    <tr>\n",
       "      <th>4</th>\n",
       "      <td>3000</td>\n",
       "      <td>4</td>\n",
       "      <td>539900</td>\n",
       "    </tr>\n",
       "  </tbody>\n",
       "</table>\n",
       "</div>"
      ],
      "text/plain": [
       "   size  bedroom   price\n",
       "0  2104        3  399900\n",
       "1  1600        3  329900\n",
       "2  2400        3  369000\n",
       "3  1416        2  232000\n",
       "4  3000        4  539900"
      ]
     },
     "execution_count": 10,
     "metadata": {},
     "output_type": "execute_result"
    }
   ],
   "source": [
    "data.head()"
   ]
  },
  {
   "cell_type": "code",
   "execution_count": 11,
   "metadata": {},
   "outputs": [],
   "source": [
    "#convert value of the pandas dataframe into numpy array\n",
    "\n",
    "data1 = data.values"
   ]
  },
  {
   "cell_type": "code",
   "execution_count": 12,
   "metadata": {},
   "outputs": [
    {
     "data": {
      "text/plain": [
       "array([[  2104,      3, 399900],\n",
       "       [  1600,      3, 329900],\n",
       "       [  2400,      3, 369000],\n",
       "       [  1416,      2, 232000],\n",
       "       [  3000,      4, 539900],\n",
       "       [  1985,      4, 299900],\n",
       "       [  1534,      3, 314900],\n",
       "       [  1427,      3, 198999],\n",
       "       [  1380,      3, 212000],\n",
       "       [  1494,      3, 242500],\n",
       "       [  1940,      4, 239999],\n",
       "       [  2000,      3, 347000],\n",
       "       [  1890,      3, 329999],\n",
       "       [  4478,      5, 699900],\n",
       "       [  1268,      3, 259900],\n",
       "       [  2300,      4, 449900],\n",
       "       [  1320,      2, 299900],\n",
       "       [  1236,      3, 199900],\n",
       "       [  2609,      4, 499998],\n",
       "       [  3031,      4, 599000],\n",
       "       [  1767,      3, 252900],\n",
       "       [  1888,      2, 255000],\n",
       "       [  1604,      3, 242900],\n",
       "       [  1962,      4, 259900],\n",
       "       [  3890,      3, 573900],\n",
       "       [  1100,      3, 249900],\n",
       "       [  1458,      3, 464500],\n",
       "       [  2526,      3, 469000],\n",
       "       [  2200,      3, 475000],\n",
       "       [  2637,      3, 299900],\n",
       "       [  1839,      2, 349900],\n",
       "       [  1000,      1, 169900],\n",
       "       [  2040,      4, 314900],\n",
       "       [  3137,      3, 579900],\n",
       "       [  1811,      4, 285900],\n",
       "       [  1437,      3, 249900],\n",
       "       [  1239,      3, 229900],\n",
       "       [  2132,      4, 345000],\n",
       "       [  4215,      4, 549000],\n",
       "       [  2162,      4, 287000],\n",
       "       [  1664,      2, 368500],\n",
       "       [  2238,      3, 329900],\n",
       "       [  2567,      4, 314000],\n",
       "       [  1200,      3, 299000],\n",
       "       [   852,      2, 179900],\n",
       "       [  1852,      4, 299900],\n",
       "       [  1203,      3, 239500]], dtype=int64)"
      ]
     },
     "execution_count": 12,
     "metadata": {},
     "output_type": "execute_result"
    }
   ],
   "source": [
    "data1"
   ]
  },
  {
   "cell_type": "code",
   "execution_count": null,
   "metadata": {},
   "outputs": [],
   "source": []
  },
  {
   "cell_type": "markdown",
   "metadata": {},
   "source": [
    "- Data shape"
   ]
  },
  {
   "cell_type": "code",
   "execution_count": 14,
   "metadata": {},
   "outputs": [
    {
     "name": "stdout",
     "output_type": "stream",
     "text": [
      "data shape: (47, 3), column size: 47, row size: 3\n"
     ]
    }
   ],
   "source": [
    "print('data shape: {}, column size: {}, row size: {}' \\\n",
    "      .format(data.shape, data.shape[0], data.shape[1]))"
   ]
  },
  {
   "cell_type": "markdown",
   "metadata": {},
   "source": [
    "# 2. Exploratory Data Analysis"
   ]
  },
  {
   "cell_type": "code",
   "execution_count": 15,
   "metadata": {},
   "outputs": [
    {
     "data": {
      "text/html": [
       "<div>\n",
       "<style scoped>\n",
       "    .dataframe tbody tr th:only-of-type {\n",
       "        vertical-align: middle;\n",
       "    }\n",
       "\n",
       "    .dataframe tbody tr th {\n",
       "        vertical-align: top;\n",
       "    }\n",
       "\n",
       "    .dataframe thead th {\n",
       "        text-align: right;\n",
       "    }\n",
       "</style>\n",
       "<table border=\"1\" class=\"dataframe\">\n",
       "  <thead>\n",
       "    <tr style=\"text-align: right;\">\n",
       "      <th></th>\n",
       "      <th>size</th>\n",
       "      <th>bedroom</th>\n",
       "      <th>price</th>\n",
       "    </tr>\n",
       "  </thead>\n",
       "  <tbody>\n",
       "    <tr>\n",
       "      <th>count</th>\n",
       "      <td>47.000000</td>\n",
       "      <td>47.000000</td>\n",
       "      <td>47.000000</td>\n",
       "    </tr>\n",
       "    <tr>\n",
       "      <th>mean</th>\n",
       "      <td>2000.680851</td>\n",
       "      <td>3.170213</td>\n",
       "      <td>340412.659574</td>\n",
       "    </tr>\n",
       "    <tr>\n",
       "      <th>std</th>\n",
       "      <td>794.702354</td>\n",
       "      <td>0.760982</td>\n",
       "      <td>125039.899586</td>\n",
       "    </tr>\n",
       "    <tr>\n",
       "      <th>min</th>\n",
       "      <td>852.000000</td>\n",
       "      <td>1.000000</td>\n",
       "      <td>169900.000000</td>\n",
       "    </tr>\n",
       "    <tr>\n",
       "      <th>25%</th>\n",
       "      <td>1432.000000</td>\n",
       "      <td>3.000000</td>\n",
       "      <td>249900.000000</td>\n",
       "    </tr>\n",
       "    <tr>\n",
       "      <th>50%</th>\n",
       "      <td>1888.000000</td>\n",
       "      <td>3.000000</td>\n",
       "      <td>299900.000000</td>\n",
       "    </tr>\n",
       "    <tr>\n",
       "      <th>75%</th>\n",
       "      <td>2269.000000</td>\n",
       "      <td>4.000000</td>\n",
       "      <td>384450.000000</td>\n",
       "    </tr>\n",
       "    <tr>\n",
       "      <th>max</th>\n",
       "      <td>4478.000000</td>\n",
       "      <td>5.000000</td>\n",
       "      <td>699900.000000</td>\n",
       "    </tr>\n",
       "  </tbody>\n",
       "</table>\n",
       "</div>"
      ],
      "text/plain": [
       "              size    bedroom          price\n",
       "count    47.000000  47.000000      47.000000\n",
       "mean   2000.680851   3.170213  340412.659574\n",
       "std     794.702354   0.760982  125039.899586\n",
       "min     852.000000   1.000000  169900.000000\n",
       "25%    1432.000000   3.000000  249900.000000\n",
       "50%    1888.000000   3.000000  299900.000000\n",
       "75%    2269.000000   4.000000  384450.000000\n",
       "max    4478.000000   5.000000  699900.000000"
      ]
     },
     "execution_count": 15,
     "metadata": {},
     "output_type": "execute_result"
    }
   ],
   "source": [
    "# Data Summary\n",
    "data.describe()"
   ]
  },
  {
   "cell_type": "code",
   "execution_count": 16,
   "metadata": {},
   "outputs": [
    {
     "data": {
      "text/html": [
       "<style  type=\"text/css\" >\n",
       "    #T_d851ee34_e76a_11e9_9dab_e09d31d952b4row0_col0 {\n",
       "            background-color:  #5e4fa2;\n",
       "        }    #T_d851ee34_e76a_11e9_9dab_e09d31d952b4row0_col1 {\n",
       "            background-color:  #f57547;\n",
       "        }    #T_d851ee34_e76a_11e9_9dab_e09d31d952b4row0_col2 {\n",
       "            background-color:  #8fd2a4;\n",
       "        }    #T_d851ee34_e76a_11e9_9dab_e09d31d952b4row1_col0 {\n",
       "            background-color:  #9e0142;\n",
       "        }    #T_d851ee34_e76a_11e9_9dab_e09d31d952b4row1_col1 {\n",
       "            background-color:  #5e4fa2;\n",
       "        }    #T_d851ee34_e76a_11e9_9dab_e09d31d952b4row1_col2 {\n",
       "            background-color:  #9e0142;\n",
       "        }    #T_d851ee34_e76a_11e9_9dab_e09d31d952b4row2_col0 {\n",
       "            background-color:  #bce4a0;\n",
       "        }    #T_d851ee34_e76a_11e9_9dab_e09d31d952b4row2_col1 {\n",
       "            background-color:  #9e0142;\n",
       "        }    #T_d851ee34_e76a_11e9_9dab_e09d31d952b4row2_col2 {\n",
       "            background-color:  #5e4fa2;\n",
       "        }</style>  \n",
       "<table id=\"T_d851ee34_e76a_11e9_9dab_e09d31d952b4\" > \n",
       "<thead>    <tr> \n",
       "        <th class=\"blank level0\" ></th> \n",
       "        <th class=\"col_heading level0 col0\" >size</th> \n",
       "        <th class=\"col_heading level0 col1\" >bedroom</th> \n",
       "        <th class=\"col_heading level0 col2\" >price</th> \n",
       "    </tr></thead> \n",
       "<tbody>    <tr> \n",
       "        <th id=\"T_d851ee34_e76a_11e9_9dab_e09d31d952b4level0_row0\" class=\"row_heading level0 row0\" >size</th> \n",
       "        <td id=\"T_d851ee34_e76a_11e9_9dab_e09d31d952b4row0_col0\" class=\"data row0 col0\" >1</td> \n",
       "        <td id=\"T_d851ee34_e76a_11e9_9dab_e09d31d952b4row0_col1\" class=\"data row0 col1\" >0.559967</td> \n",
       "        <td id=\"T_d851ee34_e76a_11e9_9dab_e09d31d952b4row0_col2\" class=\"data row0 col2\" >0.854988</td> \n",
       "    </tr>    <tr> \n",
       "        <th id=\"T_d851ee34_e76a_11e9_9dab_e09d31d952b4level0_row1\" class=\"row_heading level0 row1\" >bedroom</th> \n",
       "        <td id=\"T_d851ee34_e76a_11e9_9dab_e09d31d952b4row1_col0\" class=\"data row1 col0\" >0.559967</td> \n",
       "        <td id=\"T_d851ee34_e76a_11e9_9dab_e09d31d952b4row1_col1\" class=\"data row1 col1\" >1</td> \n",
       "        <td id=\"T_d851ee34_e76a_11e9_9dab_e09d31d952b4row1_col2\" class=\"data row1 col2\" >0.442261</td> \n",
       "    </tr>    <tr> \n",
       "        <th id=\"T_d851ee34_e76a_11e9_9dab_e09d31d952b4level0_row2\" class=\"row_heading level0 row2\" >price</th> \n",
       "        <td id=\"T_d851ee34_e76a_11e9_9dab_e09d31d952b4row2_col0\" class=\"data row2 col0\" >0.854988</td> \n",
       "        <td id=\"T_d851ee34_e76a_11e9_9dab_e09d31d952b4row2_col1\" class=\"data row2 col1\" >0.442261</td> \n",
       "        <td id=\"T_d851ee34_e76a_11e9_9dab_e09d31d952b4row2_col2\" class=\"data row2 col2\" >1</td> \n",
       "    </tr></tbody> \n",
       "</table> "
      ],
      "text/plain": [
       "<pandas.io.formats.style.Styler at 0x2a6f4506c88>"
      ]
     },
     "execution_count": 16,
     "metadata": {},
     "output_type": "execute_result"
    }
   ],
   "source": [
    "# Correlation \n",
    "corr = data.corr()\n",
    "corr.style.background_gradient(cmap='Spectral')"
   ]
  },
  {
   "cell_type": "markdown",
   "metadata": {},
   "source": [
    "## 2.1 Visualization"
   ]
  },
  {
   "cell_type": "markdown",
   "metadata": {},
   "source": [
    "It is a good practice to visualize your data before building a model. The aim of data visualization is to give you an insight on the problem. We will be using matplotlib and seaborn libracy for visuals."
   ]
  },
  {
   "cell_type": "code",
   "execution_count": 17,
   "metadata": {},
   "outputs": [
    {
     "data": {
      "text/plain": [
       "<matplotlib.axes._subplots.AxesSubplot at 0x2a6f40a6668>"
      ]
     },
     "execution_count": 17,
     "metadata": {},
     "output_type": "execute_result"
    },
    {
     "data": {
      "image/png": "[encoded data removed]",
      "text/plain": [
       "<Figure size 576x576 with 1 Axes>"
      ]
     },
     "metadata": {
      "needs_background": "light"
     },
     "output_type": "display_data"
    }
   ],
   "source": [
    "data['size'].plot(kind='hist',figsize=(8,8), color='red')"
   ]
  },
  {
   "cell_type": "code",
   "execution_count": 18,
   "metadata": {},
   "outputs": [
    {
     "data": {
      "text/plain": [
       "<matplotlib.axes._subplots.AxesSubplot at 0x2a6f69e1588>"
      ]
     },
     "execution_count": 18,
     "metadata": {},
     "output_type": "execute_result"
    },
    {
     "data": {
      "image/png": "[encoded data removed]",
      "text/plain": [
       "<Figure size 576x576 with 1 Axes>"
      ]
     },
     "metadata": {
      "needs_background": "light"
     },
     "output_type": "display_data"
    }
   ],
   "source": [
    "data['bedroom'].plot(kind='hist',figsize=(8,8), color='red')"
   ]
  },
  {
   "cell_type": "code",
   "execution_count": 19,
   "metadata": {},
   "outputs": [
    {
     "data": {
      "text/plain": [
       "Text(0.5, 1.0, 'ROOM SIZE VS PRICE')"
      ]
     },
     "execution_count": 19,
     "metadata": {},
     "output_type": "execute_result"
    },
    {
     "data": {
      "image/png": "[encoded data removed]",
      "text/plain": [
       "<Figure size 432x288 with 1 Axes>"
      ]
     },
     "metadata": {
      "needs_background": "light"
     },
     "output_type": "display_data"
    }
   ],
   "source": [
    "# Lets plot the data to see how they correlate.\n",
    "plt.scatter(data.loc[:,'size'], data['price'], s=32, marker='o')\n",
    "plt.xlabel(\"Room Size\")\n",
    "plt.ylabel(\"Price\")\n",
    "plt.title(\"ROOM SIZE VS PRICE\")"
   ]
  },
  {
   "cell_type": "code",
   "execution_count": 20,
   "metadata": {},
   "outputs": [
    {
     "data": {
      "text/plain": [
       "Text(0.5, 1.0, 'NUMBER OF ROOMS VS PRICE')"
      ]
     },
     "execution_count": 20,
     "metadata": {},
     "output_type": "execute_result"
    },
    {
     "data": {
      "image/png": "[encoded data removed]",
      "text/plain": [
       "<Figure size 432x288 with 1 Axes>"
      ]
     },
     "metadata": {
      "needs_background": "light"
     },
     "output_type": "display_data"
    }
   ],
   "source": [
    "plt.scatter(data.loc[:,'bedroom'], data['price'], s=32, marker='x')\n",
    "plt.xlabel(\"Number of Bedroom\")\n",
    "plt.ylabel(\"Price\")\n",
    "plt.title(\"NUMBER OF ROOMS VS PRICE\")"
   ]
  },
  {
   "cell_type": "markdown",
   "metadata": {},
   "source": [
    "# 3. Problem Formulation"
   ]
  },
  {
   "cell_type": "markdown",
   "metadata": {},
   "source": [
    "We have 47 training examples and two independent variable `x` on the first and second column and one dependent variable `y` on the third column\n",
    "\n",
    "**Recall:**\n",
    "- Our untrained model is given by: ![title](img/model.gif)\n",
    "    \n",
    "- Which you can also be written as ![title](img/model2.gif)\n",
    "\n",
    "where:\n",
    "- `y` is the ground truth or output\n",
    "- `x` is the input values\n",
    "- `theta` is the <strong>weight or learnable parameters</strong>\n"
   ]
  },
  {
   "cell_type": "markdown",
   "metadata": {},
   "source": [
    "Beacuse we have three coefficient of `theta` `( x1, x2)`, we want to create a `97 x 2` matrix that contains the input values on the first column and second column.\n",
    "\n",
    "Notice that unlike in the last class, we did not create a third column here that contains `ones` which are coefficients for the **bias** `ie (theta0)`. This is because we would still have to normalize the input data. and it makes no sense normalizing `ones`, because we want them to remain as `ones`."
   ]
  },
  {
   "cell_type": "code",
   "execution_count": 171,
   "metadata": {},
   "outputs": [],
   "source": [
    "# input values - xs and 1s\n",
    "nrows = data.shape[0]\n",
    "ncols = data.shape[1]\n",
    "\n",
    "x = data.loc[:, ['size','bedroom']].values #converts to Numpy array\n",
    "x = x.reshape(nrows, 2)  # Alternatively x.reshape(-1,1)"
   ]
  },
  {
   "cell_type": "markdown",
   "metadata": {},
   "source": [
    "Similarly, we want to create a row vector with a dimension of 47 x 1 for all the output values in our dataset"
   ]
  },
  {
   "cell_type": "code",
   "execution_count": 172,
   "metadata": {},
   "outputs": [],
   "source": [
    "# output variable \n",
    "y = data.loc[:, 'price'].values # convert to Numpy array\n",
    "y = y.reshape(nrows, 1)"
   ]
  },
  {
   "cell_type": "code",
   "execution_count": 173,
   "metadata": {},
   "outputs": [
    {
     "data": {
      "text/plain": [
       "(47, 1)"
      ]
     },
     "execution_count": 173,
     "metadata": {},
     "output_type": "execute_result"
    }
   ],
   "source": [
    "y.shape"
   ]
  },
  {
   "cell_type": "markdown",
   "metadata": {},
   "source": [
    "# 4. Feature Normalization"
   ]
  },
  {
   "cell_type": "markdown",
   "metadata": {},
   "source": [
    "![title](img/prepro1.jpeg)"
   ]
  },
  {
   "cell_type": "markdown",
   "metadata": {},
   "source": [
    "Since the range of values of raw data varies widely, in some machine learning algorithms, objective functions will not work properly without normalization. Therefore, the range of all features should be normalized so that each feature contributes approximately proportionately to the final distance. \n",
    "In this notebook, we will normalize our data using the formula below\n",
    "![title](img/norm.gif)"
   ]
  },
  {
   "cell_type": "code",
   "execution_count": 174,
   "metadata": {},
   "outputs": [],
   "source": [
    "def featureNorm(x_data):\n",
    "    # save the feature data in another variable\n",
    "    x_norm = x_data.copy()\n",
    "    \n",
    "    # Create a row vector of zeros, having the same number of rows as the input feature\n",
    "    mean = np.mean(x_data, axis=0)\n",
    "    x_mean = np.mean(x_data[:, :2], axis = 0)\n",
    "    x_std = np.std(x_data[:, :2], axis = 0)\n",
    "    \n",
    "    print('Mean and std of room sizes: {}: {} respectively'.format(x_mean[0],x_std[0]))\n",
    "    print('Mean and std of bedrooms : {}: {} respectively'.format(x_mean[1],x_std[1]))\n",
    "    \n",
    "    # Using the above formula\n",
    "    x_norm = np.divide((x_data[:, :2] - x_mean), x_std)\n",
    "    \n",
    "    # Insert one vector that represents the coefficient of the bias \n",
    "    x_norm = np.insert(x_norm, 0, 1, axis=1)\n",
    "    print('A ones vector has been successfully concatenated to the input feature matrix')\n",
    "    \n",
    "    return x_norm, x_mean, x_std"
   ]
  },
  {
   "cell_type": "code",
   "execution_count": 175,
   "metadata": {
    "scrolled": true
   },
   "outputs": [
    {
     "name": "stdout",
     "output_type": "stream",
     "text": [
      "Mean and std of room sizes: 2000.6808510638298: 786.2026187430467 respectively\n",
      "Mean and std of bedrooms : 3.1702127659574466: 0.7528428090618781 respectively\n",
      "A ones vector has been successfully concatenated to the input feature matrix\n"
     ]
    }
   ],
   "source": [
    "x_norm, x_mean, x_std = featureNorm(x)"
   ]
  },
  {
   "cell_type": "code",
   "execution_count": 176,
   "metadata": {},
   "outputs": [
    {
     "data": {
      "text/plain": [
       "array([[ 1.00000000e+00,  1.31415422e-01, -2.26093368e-01],\n",
       "       [ 1.00000000e+00, -5.09640698e-01, -2.26093368e-01],\n",
       "       [ 1.00000000e+00,  5.07908699e-01, -2.26093368e-01],\n",
       "       [ 1.00000000e+00, -7.43677059e-01, -1.55439190e+00],\n",
       "       [ 1.00000000e+00,  1.27107075e+00,  1.10220517e+00],\n",
       "       [ 1.00000000e+00, -1.99450507e-02,  1.10220517e+00],\n",
       "       [ 1.00000000e+00, -5.93588523e-01, -2.26093368e-01],\n",
       "       [ 1.00000000e+00, -7.29685755e-01, -2.26093368e-01],\n",
       "       [ 1.00000000e+00, -7.89466782e-01, -2.26093368e-01],\n",
       "       [ 1.00000000e+00, -6.44465993e-01, -2.26093368e-01],\n",
       "       [ 1.00000000e+00, -7.71822042e-02,  1.10220517e+00],\n",
       "       [ 1.00000000e+00, -8.65999486e-04, -2.26093368e-01],\n",
       "       [ 1.00000000e+00, -1.40779041e-01, -2.26093368e-01],\n",
       "       [ 1.00000000e+00,  3.15099326e+00,  2.43050370e+00],\n",
       "       [ 1.00000000e+00, -9.31923697e-01, -2.26093368e-01],\n",
       "       [ 1.00000000e+00,  3.80715024e-01,  1.10220517e+00],\n",
       "       [ 1.00000000e+00, -8.65782986e-01, -1.55439190e+00],\n",
       "       [ 1.00000000e+00, -9.72625673e-01, -2.26093368e-01],\n",
       "       [ 1.00000000e+00,  7.73743478e-01,  1.10220517e+00],\n",
       "       [ 1.00000000e+00,  1.31050078e+00,  1.10220517e+00],\n",
       "       [ 1.00000000e+00, -2.97227261e-01, -2.26093368e-01],\n",
       "       [ 1.00000000e+00, -1.43322915e-01, -1.55439190e+00],\n",
       "       [ 1.00000000e+00, -5.04552951e-01, -2.26093368e-01],\n",
       "       [ 1.00000000e+00, -4.91995958e-02,  1.10220517e+00],\n",
       "       [ 1.00000000e+00,  2.40309445e+00, -2.26093368e-01],\n",
       "       [ 1.00000000e+00, -1.14560907e+00, -2.26093368e-01],\n",
       "       [ 1.00000000e+00, -6.90255715e-01, -2.26093368e-01],\n",
       "       [ 1.00000000e+00,  6.68172729e-01, -2.26093368e-01],\n",
       "       [ 1.00000000e+00,  2.53521350e-01, -2.26093368e-01],\n",
       "       [ 1.00000000e+00,  8.09357707e-01, -2.26093368e-01],\n",
       "       [ 1.00000000e+00, -2.05647815e-01, -1.55439190e+00],\n",
       "       [ 1.00000000e+00, -1.27280274e+00, -2.88269044e+00],\n",
       "       [ 1.00000000e+00,  5.00114703e-02,  1.10220517e+00],\n",
       "       [ 1.00000000e+00,  1.44532608e+00, -2.26093368e-01],\n",
       "       [ 1.00000000e+00, -2.41262044e-01,  1.10220517e+00],\n",
       "       [ 1.00000000e+00, -7.16966387e-01, -2.26093368e-01],\n",
       "       [ 1.00000000e+00, -9.68809863e-01, -2.26093368e-01],\n",
       "       [ 1.00000000e+00,  1.67029651e-01,  1.10220517e+00],\n",
       "       [ 1.00000000e+00,  2.81647389e+00,  1.10220517e+00],\n",
       "       [ 1.00000000e+00,  2.05187753e-01,  1.10220517e+00],\n",
       "       [ 1.00000000e+00, -4.28236746e-01, -1.55439190e+00],\n",
       "       [ 1.00000000e+00,  3.01854946e-01, -2.26093368e-01],\n",
       "       [ 1.00000000e+00,  7.20322135e-01,  1.10220517e+00],\n",
       "       [ 1.00000000e+00, -1.01841540e+00, -2.26093368e-01],\n",
       "       [ 1.00000000e+00, -1.46104938e+00, -1.55439190e+00],\n",
       "       [ 1.00000000e+00, -1.89112638e-01,  1.10220517e+00],\n",
       "       [ 1.00000000e+00, -1.01459959e+00, -2.26093368e-01]])"
      ]
     },
     "execution_count": 176,
     "metadata": {},
     "output_type": "execute_result"
    }
   ],
   "source": [
    "x_norm"
   ]
  },
  {
   "cell_type": "code",
   "execution_count": 275,
   "metadata": {},
   "outputs": [
    {
     "data": {
      "text/plain": [
       "141"
      ]
     },
     "execution_count": 275,
     "metadata": {},
     "output_type": "execute_result"
    }
   ],
   "source": [
    "x_norm.size"
   ]
  },
  {
   "cell_type": "markdown",
   "metadata": {},
   "source": [
    "-----------------------------------"
   ]
  },
  {
   "cell_type": "markdown",
   "metadata": {},
   "source": [
    "# 5. Training"
   ]
  },
  {
   "cell_type": "markdown",
   "metadata": {},
   "source": [
    "Recall from the class, the process to training a linear regression model is as follow.\n",
    "\n",
    "We want to find the appropriate value of `theta` that will give us a good estimate of a city's profit if lthe city's population is supplied.\n",
    "\n",
    "To do this, \n",
    "- We want to start with a random value of `theta` to generate a hypothesis\n",
    "![title](img/model3.gif)\n",
    "\n",
    "- Then continually correct values of `theta` until the deviation of the hypothesis/prediction `h` from the ground-truth `y` is greatly reduced\n",
    "\n",
    "**Note:** In the last class, we used something like this `theta = [[0],[0],[0]]` to initialize the values of theta. Going forward, we will use the numpy function to initialize the values of theta, because we could have large number of theta values. ie `theta = np.zeros(3,1)`"
   ]
  },
  {
   "cell_type": "code",
   "execution_count": 177,
   "metadata": {},
   "outputs": [],
   "source": [
    "def train(x,y, print_every):\n",
    "    #print_every = 40\n",
    "    iteration = 1000\n",
    "    \n",
    "    # For this practice are initiallizing are theta with values of zero.\n",
    "    theta = np.zeros((3,1))\n",
    "    \n",
    "    # Here, want to save our cost function or loss or square error, \n",
    "    # so that we can have an idea of how the deviation of the hypothesis from the ground thruth reduces\n",
    "    cost_function = np.zeros(iteration)\n",
    "    \n",
    "    for i in range(0, iteration):\n",
    "        # Step 1: we make a prediction using the random weights (theta) that we initialized\n",
    "        # @ is a fancy way do performing dot products\n",
    "        h = x @ theta\n",
    "        \n",
    "        # Step 2: We take a step to correct the weights (theta) to that the next predicion will be better\n",
    "        theta = update_weight(h, theta, x)\n",
    "        \n",
    "        # Step 3: We measure the deviation or error\n",
    "        cost_function[i] = cost(x, theta)\n",
    "        \n",
    "        if i % print_every == 0:\n",
    "            #print(\"Running Gradient Descent. Iteration: {} cost function: {}\".format(np.log(iteration,cost_function[i]))\n",
    "            print(\"Iteration: {}, Cost function: {} \".format(i, np.log(cost_function[i])))\n",
    "        \n",
    "    return theta, cost_function"
   ]
  },
  {
   "cell_type": "markdown",
   "metadata": {},
   "source": [
    "But how do we check the error like we defined above?\n",
    "\n",
    "Remember the error formular (cost function)? \n",
    "![title](img/model44.gif)\n",
    "\n",
    "where:\n",
    "- `m` is the number of training example\n",
    "- `x` is the input data\n",
    "- `h` is the hypothesis\n",
    "- `y` is the prediction\n",
    "\n",
    "The equation tries to find the square error between the ground truth and the prediction.\n"
   ]
  },
  {
   "cell_type": "code",
   "execution_count": 178,
   "metadata": {},
   "outputs": [],
   "source": [
    "def cost(x, theta):\n",
    "    m = x[:,0].size\n",
    "    h = x @ theta\n",
    "    return (1/2*m) * np.sum(np.square(h - y))"
   ]
  },
  {
   "cell_type": "markdown",
   "metadata": {},
   "source": [
    "Now that we are able to get a sense of the error, how do we update how weight (theta) such that is predicts better?\n",
    "\n",
    "Like we discussed in class, gradient descent algorithim will be used for this purpose.\n",
    "\n",
    "The general formular for gradient is given below:\n",
    "![title](img/model6.gif)\n",
    "which can be differentiated to give:\n",
    "![title](img/model5.gif)\n",
    "where\n",
    "- alpha is the learning rate\n",
    "\n",
    "ie: we continually update the weight(theta) by taking steps(alpha) for the derived gradient of the error until we have sufficiently minimized theta."
   ]
  },
  {
   "cell_type": "code",
   "execution_count": 179,
   "metadata": {},
   "outputs": [],
   "source": [
    "def update_weight(h, theta, x):\n",
    "    m = x[:,0].size\n",
    "    alpha = 0.01\n",
    "    theta = theta - alpha * (1/m * (x.T @ (h - y)))\n",
    "    return theta"
   ]
  },
  {
   "cell_type": "markdown",
   "metadata": {},
   "source": [
    "Now, lets pass in our data and train."
   ]
  },
  {
   "cell_type": "code",
   "execution_count": 180,
   "metadata": {},
   "outputs": [
    {
     "name": "stdout",
     "output_type": "stream",
     "text": [
      "Iteration: 0, Cost function: 32.58708608705592 \n",
      "Iteration: 50, Cost function: 31.62646524555142 \n",
      "Iteration: 100, Cost function: 30.768400809214164 \n",
      "Iteration: 150, Cost function: 30.08272384143107 \n",
      "Iteration: 200, Cost function: 29.624009990129288 \n",
      "Iteration: 250, Cost function: 29.371264793925242 \n",
      "Iteration: 300, Cost function: 29.249620101863503 \n",
      "Iteration: 350, Cost function: 29.193821914890535 \n",
      "Iteration: 400, Cost function: 29.16773135344796 \n",
      "Iteration: 450, Cost function: 29.154828494508877 \n",
      "Iteration: 500, Cost function: 29.14800073351936 \n",
      "Iteration: 550, Cost function: 29.144156595722503 \n",
      "Iteration: 600, Cost function: 29.141885780791473 \n",
      "Iteration: 650, Cost function: 29.140499092567108 \n",
      "Iteration: 700, Cost function: 29.1396341211269 \n",
      "Iteration: 750, Cost function: 29.13908754832646 \n",
      "Iteration: 800, Cost function: 29.138739515618084 \n",
      "Iteration: 850, Cost function: 29.138516916385527 \n",
      "Iteration: 900, Cost function: 29.138374179274354 \n",
      "Iteration: 950, Cost function: 29.138282518526452 \n"
     ]
    }
   ],
   "source": [
    "theta, cost_values = train(x_norm, y, 50)"
   ]
  },
  {
   "cell_type": "code",
   "execution_count": 181,
   "metadata": {},
   "outputs": [
    {
     "name": "stdout",
     "output_type": "stream",
     "text": [
      "Our learned value of theta:  [340397.96353532 108742.65627238  -5873.22993383]\n"
     ]
    }
   ],
   "source": [
    "# Now, lets see our trained weights\n",
    "print('Our learned value of theta: ',theta.ravel())"
   ]
  },
  {
   "cell_type": "markdown",
   "metadata": {},
   "source": [
    "Lets visualize how or error reduced during the iteration. This is the power of gradient descent. "
   ]
  },
  {
   "cell_type": "code",
   "execution_count": 182,
   "metadata": {},
   "outputs": [
    {
     "data": {
      "image/png": "[encoded data removed]",
      "text/plain": [
       "<Figure size 432x288 with 1 Axes>"
      ]
     },
     "metadata": {
      "needs_background": "light"
     },
     "output_type": "display_data"
    }
   ],
   "source": [
    "plt.plot(cost_values)\n",
    "plt.ylabel('Cost J')\n",
    "plt.xlabel('Iterations');"
   ]
  },
  {
   "cell_type": "markdown",
   "metadata": {},
   "source": [
    "Notice that at the `400th iteration`, the model doesnt really change anymore. You should actually stop the iteration at that time and save cost of processing"
   ]
  },
  {
   "cell_type": "markdown",
   "metadata": {},
   "source": [
    "## Predict\n",
    "\n",
    "Lets write a predict function that takes in the input features and produces an estimate price for the type of house desired"
   ]
  },
  {
   "cell_type": "code",
   "execution_count": 183,
   "metadata": {},
   "outputs": [],
   "source": [
    "def predict(theta, x_mean, x_std):\n",
    "    input_size = float(input(\"Input the size (square feet) of house you want: \"))\n",
    "    input_bedrooms = float(input(\"Input the number of bedrooms you desire: \"))\n",
    "    print(\"\\n Calculating -- -- -- -- -- -- -- \\n\")\n",
    "    \n",
    "    # input vector\n",
    "    input_vec = np.array([input_size, input_bedrooms])\n",
    "    \n",
    "    #print(input_vec_bias)\n",
    "    \n",
    "    # normalization of input vector\n",
    "    input_norm = np.divide((input_vec -  x_mean), x_std)\n",
    "    \n",
    "     # input vector with bias\n",
    "    input_vec_bias = np.insert(input_norm,0, 1)\n",
    "    \n",
    "    price = input_vec_bias @ theta\n",
    "    print(\"For a house of size {} sqft, with {} bedrooms. The price of estimate is N{}\".format(input_size,input_bedrooms,price[0]))"
   ]
  },
  {
   "cell_type": "code",
   "execution_count": 184,
   "metadata": {
    "scrolled": true
   },
   "outputs": [
    {
     "name": "stdout",
     "output_type": "stream",
     "text": [
      "Input the size (square feet) of house you want: 2526\n",
      "Input the number of bedrooms you desire: 3\n",
      "\n",
      " Calculating -- -- -- -- -- -- -- \n",
      "\n",
      "For a house of size 2526.0 sqft, with 3.0 bedrooms. The price of estimate is N414384.73921779\n"
     ]
    }
   ],
   "source": [
    "predict(theta, x_mean, x_std)"
   ]
  },
  {
   "cell_type": "markdown",
   "metadata": {},
   "source": [
    "-------------------"
   ]
  },
  {
   "cell_type": "markdown",
   "metadata": {},
   "source": [
    "## Learning Rates"
   ]
  },
  {
   "cell_type": "markdown",
   "metadata": {},
   "source": [
    "But what ius the effect of varying learning rates in the optimization of our weights?\n",
    "Below, we will plot the effect of different learning on the optimization of theta.\n",
    "\n",
    "Study the code for the next 5 mins..."
   ]
  },
  {
   "cell_type": "code",
   "execution_count": 185,
   "metadata": {},
   "outputs": [],
   "source": [
    "# Choose some alpha value\n",
    "alphas = [1,0,0.1,0.012]\n",
    "\n",
    "def update_weight_r(h, theta, x, alpha):\n",
    "    m = x[:,0].size\n",
    "    theta = theta - alpha * (1/m * (x.T @ (h - y)))\n",
    "    return theta\n",
    "\n",
    "def cost_r(x):\n",
    "    J = []\n",
    "    theta = [[0],[0],[0]]\n",
    "    iteration = 400\n",
    "    for i in alphas:\n",
    "        alpha = i\n",
    "        m = x[:,0].size\n",
    "        J_alpha = []\n",
    "        for i in range(iteration):\n",
    "            h = x @ theta\n",
    "            theta = update_weight_r(h, theta, x, alpha)\n",
    "            cost = (1/2*m) * np.sum(np.square(h - y))\n",
    "            J_alpha.append(cost)\n",
    "        # reset theta to zero\n",
    "        theta = [[0],[0],[0]]\n",
    "        J.append(J_alpha)\n",
    "    return J\n"
   ]
  },
  {
   "cell_type": "code",
   "execution_count": 186,
   "metadata": {},
   "outputs": [
    {
     "data": {
      "image/png": "[encoded data removed]",
      "text/plain": [
       "<Figure size 864x864 with 4 Axes>"
      ]
     },
     "metadata": {
      "needs_background": "light"
     },
     "output_type": "display_data"
    }
   ],
   "source": [
    "# Lets pass in the value of x into our function defined above \n",
    "cost_alpha = cost_r(x_norm)\n",
    "\n",
    "plt.figure(figsize=(12,12))\n",
    "plt.subplot(2,2,1)\n",
    "plt.plot(cost_alpha[0])\n",
    "plt.title('lr= 1')\n",
    "\n",
    "plt.subplot(2,2,2)\n",
    "plt.plot(cost_alpha[1])\n",
    "plt.title('lr= 0')\n",
    "\n",
    "plt.subplot(2,2,3)\n",
    "plt.plot(cost_alpha[2])\n",
    "plt.title('lr= 0.1')\n",
    "\n",
    "plt.subplot(2,2,4)\n",
    "plt.plot(cost_alpha[3])\n",
    "plt.title('lr= 0.01')\n",
    "\n",
    "plt.tight_layout()"
   ]
  },
  {
   "cell_type": "markdown",
   "metadata": {},
   "source": [
    "**Class Discussion/Assignment:** What did you notice in this plots"
   ]
  },
  {
   "cell_type": "markdown",
   "metadata": {},
   "source": [
    "-----------------"
   ]
  },
  {
   "cell_type": "markdown",
   "metadata": {},
   "source": [
    "# 7. Normal Equation (Analytical Method)"
   ]
  },
  {
   "cell_type": "markdown",
   "metadata": {},
   "source": [
    "$$\\theta = (X^TX)^{-1}X^T\\vec{y}$$\n",
    "Using this formula does not require any feature scaling, and you will get an exact solution in one calculation: there is no \\loop until convergence\" like in gradient descent.\n",
    "\n",
    "Complete the code in normaleqn.py to use the formula above to calculate $\\theta$. Remember that while you don't need to scale your features, we still need to add a column of 1's to the X matrix to have an intercept term"
   ]
  },
  {
   "cell_type": "code",
   "execution_count": 187,
   "metadata": {},
   "outputs": [],
   "source": [
    "# lets define the formula in a function\n",
    "def normalEqn(X,y):\n",
    "    return np.dot((np.linalg.inv(np.dot(X.T,X))),np.dot(X.T,y))"
   ]
  },
  {
   "cell_type": "code",
   "execution_count": 188,
   "metadata": {},
   "outputs": [
    {
     "name": "stdout",
     "output_type": "stream",
     "text": [
      "Theta computed from the normal equations:\n",
      " [[89597.9095428 ]\n",
      " [  139.21067402]\n",
      " [-8738.01911233]] \n",
      "\n"
     ]
    }
   ],
   "source": [
    "# Lets pass in our input values the have not been normalized\n",
    "x_non_norm = n_data = np.insert(data.iloc[:,:2].values,0,1, axis=1)\n",
    "\n",
    "theta_analytical = normalEqn(x_non_norm, y)\n",
    "\n",
    "# Display normal equation's result\n",
    "print ('Theta computed from the normal equations:')\n",
    "print (' %s \\n' % theta_analytical)"
   ]
  },
  {
   "cell_type": "code",
   "execution_count": 189,
   "metadata": {},
   "outputs": [],
   "source": [
    "#Predict\n",
    "def predict_analytical(theta):\n",
    "    input_size = float(input(\"Input the size (square feet) of house you want: \"))\n",
    "    input_bedrooms = float(input(\"Input the number of bedrooms you desire: \"))\n",
    "    print(\"\\nCalculating... ... ... ... ... ...\\n\")\n",
    "    input_vec = np.array([[1, input_size, input_bedrooms]])\n",
    "    \n",
    "    \n",
    "    price = input_vec @ theta\n",
    "    print(\"For a house of size \", input_size, \"sqft, with \", input_bedrooms, \"bedrooms, \\nThe price estimate is N\", price[0][0])"
   ]
  },
  {
   "cell_type": "code",
   "execution_count": 190,
   "metadata": {},
   "outputs": [
    {
     "name": "stdout",
     "output_type": "stream",
     "text": [
      "Input the size (square feet) of house you want: 2526\n",
      "Input the number of bedrooms you desire: 3\n",
      "\n",
      "Calculating... ... ... ... ... ...\n",
      "\n",
      "For a house of size  2526.0 sqft, with  3.0 bedrooms, \n",
      "The price estimate is N 415030.01477433724\n"
     ]
    }
   ],
   "source": [
    "predict_analytical(theta_analytical)"
   ]
  },
  {
   "cell_type": "markdown",
   "metadata": {},
   "source": [
    "--------------------------------"
   ]
  },
  {
   "cell_type": "markdown",
   "metadata": {},
   "source": [
    "## Assignment:\n",
    "\n",
    "1. Use `scikit-learn` to develop a linear regression model using the same dataset in this practice and compare result.\n",
    "2. Explore the internet for an multivariant dataset and use this algorithim to train a linear regression model. Use `scikit-learn` too\n",
    "3. Rewrite the train function such that we pass `'iteration',` and `'alpha'` as arguments.\n",
    "4. What did you observe about the changing the `learning rate`?\n",
    "\n",
    "Assignment is due for submission on `03/10/2019`.\n",
    "\n",
    "Submission link will be posted on the `SLACK CHANNEL`"
   ]
  },
  {
   "cell_type": "markdown",
   "metadata": {},
   "source": [
    "-------------------------"
   ]
  },
  {
   "cell_type": "markdown",
   "metadata": {},
   "source": [
    "# Credit"
   ]
  },
  {
   "cell_type": "markdown",
   "metadata": {},
   "source": [
    "This exercise is adopted from [Andrew Ng Machine Learning Course](https://www.coursera.org/learn/machine-learning)"
   ]
  },
  {
   "cell_type": "code",
   "execution_count": 46,
   "metadata": {},
   "outputs": [
    {
     "data": {
      "text/html": [
       "<div>\n",
       "<style scoped>\n",
       "    .dataframe tbody tr th:only-of-type {\n",
       "        vertical-align: middle;\n",
       "    }\n",
       "\n",
       "    .dataframe tbody tr th {\n",
       "        vertical-align: top;\n",
       "    }\n",
       "\n",
       "    .dataframe thead th {\n",
       "        text-align: right;\n",
       "    }\n",
       "</style>\n",
       "<table border=\"1\" class=\"dataframe\">\n",
       "  <thead>\n",
       "    <tr style=\"text-align: right;\">\n",
       "      <th></th>\n",
       "      <th>size</th>\n",
       "      <th>bedroom</th>\n",
       "      <th>price</th>\n",
       "    </tr>\n",
       "  </thead>\n",
       "  <tbody>\n",
       "    <tr>\n",
       "      <th>0</th>\n",
       "      <td>2104</td>\n",
       "      <td>3</td>\n",
       "      <td>399900</td>\n",
       "    </tr>\n",
       "    <tr>\n",
       "      <th>1</th>\n",
       "      <td>1600</td>\n",
       "      <td>3</td>\n",
       "      <td>329900</td>\n",
       "    </tr>\n",
       "    <tr>\n",
       "      <th>2</th>\n",
       "      <td>2400</td>\n",
       "      <td>3</td>\n",
       "      <td>369000</td>\n",
       "    </tr>\n",
       "    <tr>\n",
       "      <th>3</th>\n",
       "      <td>1416</td>\n",
       "      <td>2</td>\n",
       "      <td>232000</td>\n",
       "    </tr>\n",
       "    <tr>\n",
       "      <th>4</th>\n",
       "      <td>3000</td>\n",
       "      <td>4</td>\n",
       "      <td>539900</td>\n",
       "    </tr>\n",
       "  </tbody>\n",
       "</table>\n",
       "</div>"
      ],
      "text/plain": [
       "   size  bedroom   price\n",
       "0  2104        3  399900\n",
       "1  1600        3  329900\n",
       "2  2400        3  369000\n",
       "3  1416        2  232000\n",
       "4  3000        4  539900"
      ]
     },
     "execution_count": 46,
     "metadata": {},
     "output_type": "execute_result"
    }
   ],
   "source": [
    "data.head()"
   ]
  },
  {
   "cell_type": "code",
   "execution_count": 47,
   "metadata": {},
   "outputs": [
    {
     "name": "stdout",
     "output_type": "stream",
     "text": [
      "<class 'pandas.core.frame.DataFrame'>\n",
      "RangeIndex: 47 entries, 0 to 46\n",
      "Data columns (total 3 columns):\n",
      "size       47 non-null int64\n",
      "bedroom    47 non-null int64\n",
      "price      47 non-null int64\n",
      "dtypes: int64(3)\n",
      "memory usage: 1.2 KB\n"
     ]
    }
   ],
   "source": [
    "data.info()"
   ]
  },
  {
   "cell_type": "code",
   "execution_count": 48,
   "metadata": {},
   "outputs": [
    {
     "data": {
      "text/html": [
       "<div>\n",
       "<style scoped>\n",
       "    .dataframe tbody tr th:only-of-type {\n",
       "        vertical-align: middle;\n",
       "    }\n",
       "\n",
       "    .dataframe tbody tr th {\n",
       "        vertical-align: top;\n",
       "    }\n",
       "\n",
       "    .dataframe thead th {\n",
       "        text-align: right;\n",
       "    }\n",
       "</style>\n",
       "<table border=\"1\" class=\"dataframe\">\n",
       "  <thead>\n",
       "    <tr style=\"text-align: right;\">\n",
       "      <th></th>\n",
       "      <th>size</th>\n",
       "      <th>bedroom</th>\n",
       "      <th>price</th>\n",
       "    </tr>\n",
       "  </thead>\n",
       "  <tbody>\n",
       "    <tr>\n",
       "      <th>count</th>\n",
       "      <td>47.000000</td>\n",
       "      <td>47.000000</td>\n",
       "      <td>47.000000</td>\n",
       "    </tr>\n",
       "    <tr>\n",
       "      <th>mean</th>\n",
       "      <td>2000.680851</td>\n",
       "      <td>3.170213</td>\n",
       "      <td>340412.659574</td>\n",
       "    </tr>\n",
       "    <tr>\n",
       "      <th>std</th>\n",
       "      <td>794.702354</td>\n",
       "      <td>0.760982</td>\n",
       "      <td>125039.899586</td>\n",
       "    </tr>\n",
       "    <tr>\n",
       "      <th>min</th>\n",
       "      <td>852.000000</td>\n",
       "      <td>1.000000</td>\n",
       "      <td>169900.000000</td>\n",
       "    </tr>\n",
       "    <tr>\n",
       "      <th>25%</th>\n",
       "      <td>1432.000000</td>\n",
       "      <td>3.000000</td>\n",
       "      <td>249900.000000</td>\n",
       "    </tr>\n",
       "    <tr>\n",
       "      <th>50%</th>\n",
       "      <td>1888.000000</td>\n",
       "      <td>3.000000</td>\n",
       "      <td>299900.000000</td>\n",
       "    </tr>\n",
       "    <tr>\n",
       "      <th>75%</th>\n",
       "      <td>2269.000000</td>\n",
       "      <td>4.000000</td>\n",
       "      <td>384450.000000</td>\n",
       "    </tr>\n",
       "    <tr>\n",
       "      <th>max</th>\n",
       "      <td>4478.000000</td>\n",
       "      <td>5.000000</td>\n",
       "      <td>699900.000000</td>\n",
       "    </tr>\n",
       "  </tbody>\n",
       "</table>\n",
       "</div>"
      ],
      "text/plain": [
       "              size    bedroom          price\n",
       "count    47.000000  47.000000      47.000000\n",
       "mean   2000.680851   3.170213  340412.659574\n",
       "std     794.702354   0.760982  125039.899586\n",
       "min     852.000000   1.000000  169900.000000\n",
       "25%    1432.000000   3.000000  249900.000000\n",
       "50%    1888.000000   3.000000  299900.000000\n",
       "75%    2269.000000   4.000000  384450.000000\n",
       "max    4478.000000   5.000000  699900.000000"
      ]
     },
     "execution_count": 48,
     "metadata": {},
     "output_type": "execute_result"
    }
   ],
   "source": [
    "data.describe()"
   ]
  },
  {
   "cell_type": "code",
   "execution_count": 49,
   "metadata": {},
   "outputs": [],
   "source": [
    "import seaborn as sns"
   ]
  },
  {
   "cell_type": "code",
   "execution_count": 50,
   "metadata": {},
   "outputs": [
    {
     "data": {
      "text/plain": [
       "<seaborn.axisgrid.PairGrid at 0x2a6f9042438>"
      ]
     },
     "execution_count": 50,
     "metadata": {},
     "output_type": "execute_result"
    },
    {
     "data": {
      "image/png": "[encoded data removed]",
      "text/plain": [
       "<Figure size 540x540 with 12 Axes>"
      ]
     },
     "metadata": {
      "needs_background": "light"
     },
     "output_type": "display_data"
    }
   ],
   "source": [
    "sns.pairplot(data)"
   ]
  },
  {
   "cell_type": "code",
   "execution_count": 255,
   "metadata": {},
   "outputs": [
    {
     "name": "stderr",
     "output_type": "stream",
     "text": [
      "C:\\Users\\odubela\\Anaconda3\\lib\\site-packages\\scipy\\stats\\stats.py:1713: FutureWarning: Using a non-tuple sequence for multidimensional indexing is deprecated; use `arr[tuple(seq)]` instead of `arr[seq]`. In the future this will be interpreted as an array index, `arr[np.array(seq)]`, which will result either in an error or a different result.\n",
      "  return np.add.reduce(sorted[indexer] * weights, axis=axis) / sumval\n"
     ]
    },
    {
     "data": {
      "text/plain": [
       "<seaborn.axisgrid.FacetGrid at 0x2a6fafc5898>"
      ]
     },
     "execution_count": 255,
     "metadata": {},
     "output_type": "execute_result"
    },
    {
     "data": {
      "image/png": "[encoded data removed]",
      "text/plain": [
       "<Figure size 360x360 with 1 Axes>"
      ]
     },
     "metadata": {
      "needs_background": "light"
     },
     "output_type": "display_data"
    }
   ],
   "source": [
    "sns.lmplot(x='price',y='size',data = data)"
   ]
  },
  {
   "cell_type": "code",
   "execution_count": 103,
   "metadata": {},
   "outputs": [
    {
     "data": {
      "text/plain": [
       "(47, 2)"
      ]
     },
     "execution_count": 103,
     "metadata": {},
     "output_type": "execute_result"
    }
   ],
   "source": [
    "X_skl = data.iloc[: , :-1].values\n",
    "X_skl.shape"
   ]
  },
  {
   "cell_type": "code",
   "execution_count": 101,
   "metadata": {},
   "outputs": [
    {
     "data": {
      "text/plain": [
       "array([399900, 329900, 369000, 232000, 539900, 299900, 314900, 198999,\n",
       "       212000, 242500, 239999, 347000, 329999, 699900, 259900, 449900,\n",
       "       299900, 199900, 499998, 599000, 252900, 255000, 242900, 259900,\n",
       "       573900, 249900, 464500, 469000, 475000, 299900, 349900, 169900,\n",
       "       314900, 579900, 285900, 249900, 229900, 345000, 549000, 287000,\n",
       "       368500, 329900, 314000, 299000, 179900, 299900, 239500],\n",
       "      dtype=int64)"
      ]
     },
     "execution_count": 101,
     "metadata": {},
     "output_type": "execute_result"
    }
   ],
   "source": [
    "y_skl = data.iloc[:, 2].values\n",
    "y_skl"
   ]
  },
  {
   "cell_type": "code",
   "execution_count": 87,
   "metadata": {},
   "outputs": [],
   "source": [
    "from sklearn.model_selection import train_test_split"
   ]
  },
  {
   "cell_type": "code",
   "execution_count": 257,
   "metadata": {},
   "outputs": [],
   "source": [
    "X_train, X_test, y_train, y_test = train_test_split(\n",
    "                        X_skl, y_skl, test_size=0.3, random_state =  42)"
   ]
  },
  {
   "cell_type": "code",
   "execution_count": 258,
   "metadata": {},
   "outputs": [],
   "source": [
    "from sklearn import linear_model\n",
    "from sklearn.metrics import mean_squared_error\n",
    "from math import sqrt\n",
    "from sklearn import metrics\n",
    "\n",
    "lr = linear_model.LinearRegression()\n",
    "model = lr.fit(X_train, y_train)"
   ]
  },
  {
   "cell_type": "code",
   "execution_count": 259,
   "metadata": {},
   "outputs": [],
   "source": [
    "predictions = model.predict( X_test)"
   ]
  },
  {
   "cell_type": "code",
   "execution_count": 260,
   "metadata": {},
   "outputs": [
    {
     "name": "stdout",
     "output_type": "stream",
     "text": [
      "MAE: 68295.6637275707\n",
      "MSE: 7611089615.010203\n",
      "RMSE: 87241.5589900261\n"
     ]
    }
   ],
   "source": [
    "print('MAE:', metrics.mean_absolute_error(y_test, predictions))\n",
    "print('MSE:', metrics.mean_squared_error(y_test, predictions))\n",
    "print('RMSE:', np.sqrt(metrics.mean_squared_error(y_test, predictions)))"
   ]
  },
  {
   "cell_type": "code",
   "execution_count": 261,
   "metadata": {},
   "outputs": [
    {
     "name": "stdout",
     "output_type": "stream",
     "text": [
      "Coefficients: \n",
      " [  131.12253589 -2825.22573808]\n"
     ]
    }
   ],
   "source": [
    "print('Coefficients: \\n', model.coef_)"
   ]
  },
  {
   "cell_type": "code",
   "execution_count": 262,
   "metadata": {},
   "outputs": [
    {
     "data": {
      "text/plain": [
       "(32, 2)"
      ]
     },
     "execution_count": 262,
     "metadata": {},
     "output_type": "execute_result"
    }
   ],
   "source": [
    "X_train.shape"
   ]
  },
  {
   "cell_type": "code",
   "execution_count": 263,
   "metadata": {},
   "outputs": [
    {
     "data": {
      "text/plain": [
       "(32,)"
      ]
     },
     "execution_count": 263,
     "metadata": {},
     "output_type": "execute_result"
    }
   ],
   "source": [
    "y_train.shape"
   ]
  },
  {
   "cell_type": "code",
   "execution_count": 264,
   "metadata": {},
   "outputs": [
    {
     "data": {
      "text/plain": [
       "Text(0, 0.5, 'Predicted Y')"
      ]
     },
     "execution_count": 264,
     "metadata": {},
     "output_type": "execute_result"
    },
    {
     "data": {
      "image/png": "[encoded data removed]",
      "text/plain": [
       "<Figure size 432x288 with 1 Axes>"
      ]
     },
     "metadata": {
      "needs_background": "light"
     },
     "output_type": "display_data"
    }
   ],
   "source": [
    "plt.scatter(y_test,predictions)\n",
    "plt.xlabel('Y Test')\n",
    "plt.ylabel('Predicted Y')"
   ]
  },
  {
   "cell_type": "code",
   "execution_count": 265,
   "metadata": {},
   "outputs": [
    {
     "name": "stderr",
     "output_type": "stream",
     "text": [
      "C:\\Users\\odubela\\Anaconda3\\lib\\site-packages\\scipy\\stats\\stats.py:1713: FutureWarning: Using a non-tuple sequence for multidimensional indexing is deprecated; use `arr[tuple(seq)]` instead of `arr[seq]`. In the future this will be interpreted as an array index, `arr[np.array(seq)]`, which will result either in an error or a different result.\n",
      "  return np.add.reduce(sorted[indexer] * weights, axis=axis) / sumval\n"
     ]
    },
    {
     "data": {
      "image/png": "[encoded data removed]",
      "text/plain": [
       "<Figure size 432x288 with 1 Axes>"
      ]
     },
     "metadata": {
      "needs_background": "light"
     },
     "output_type": "display_data"
    }
   ],
   "source": [
    "import seaborn as sns\n",
    "sns.distplot((y_test-predictions),bins=50);"
   ]
  },
  {
   "cell_type": "code",
   "execution_count": 266,
   "metadata": {},
   "outputs": [
    {
     "name": "stdout",
     "output_type": "stream",
     "text": [
      "69599.05822335609\n"
     ]
    }
   ],
   "source": [
    "print(model.intercept_)"
   ]
  },
  {
   "cell_type": "code",
   "execution_count": 267,
   "metadata": {},
   "outputs": [],
   "source": [
    "#creating a dataset from the test data\n",
    "dataset= pd.DataFrame(X_test, columns = ['X1','X2']) "
   ]
  },
  {
   "cell_type": "code",
   "execution_count": 268,
   "metadata": {},
   "outputs": [],
   "source": [
    "dataset['y'] = y_test"
   ]
  },
  {
   "cell_type": "code",
   "execution_count": 269,
   "metadata": {},
   "outputs": [],
   "source": [
    "dataset['y_pred'] = predictions"
   ]
  },
  {
   "cell_type": "code",
   "execution_count": 270,
   "metadata": {},
   "outputs": [
    {
     "data": {
      "text/html": [
       "<div>\n",
       "<style scoped>\n",
       "    .dataframe tbody tr th:only-of-type {\n",
       "        vertical-align: middle;\n",
       "    }\n",
       "\n",
       "    .dataframe tbody tr th {\n",
       "        vertical-align: top;\n",
       "    }\n",
       "\n",
       "    .dataframe thead th {\n",
       "        text-align: right;\n",
       "    }\n",
       "</style>\n",
       "<table border=\"1\" class=\"dataframe\">\n",
       "  <thead>\n",
       "    <tr style=\"text-align: right;\">\n",
       "      <th></th>\n",
       "      <th>X1</th>\n",
       "      <th>X2</th>\n",
       "      <th>y</th>\n",
       "      <th>y_pred</th>\n",
       "    </tr>\n",
       "  </thead>\n",
       "  <tbody>\n",
       "    <tr>\n",
       "      <th>0</th>\n",
       "      <td>2526</td>\n",
       "      <td>3</td>\n",
       "      <td>469000</td>\n",
       "      <td>392338.906658</td>\n",
       "    </tr>\n",
       "    <tr>\n",
       "      <th>1</th>\n",
       "      <td>2162</td>\n",
       "      <td>4</td>\n",
       "      <td>287000</td>\n",
       "      <td>341785.077857</td>\n",
       "    </tr>\n",
       "    <tr>\n",
       "      <th>2</th>\n",
       "      <td>1458</td>\n",
       "      <td>3</td>\n",
       "      <td>464500</td>\n",
       "      <td>252300.038331</td>\n",
       "    </tr>\n",
       "    <tr>\n",
       "      <th>3</th>\n",
       "      <td>1200</td>\n",
       "      <td>3</td>\n",
       "      <td>299000</td>\n",
       "      <td>218470.424073</td>\n",
       "    </tr>\n",
       "    <tr>\n",
       "      <th>4</th>\n",
       "      <td>3890</td>\n",
       "      <td>3</td>\n",
       "      <td>573900</td>\n",
       "      <td>571190.045607</td>\n",
       "    </tr>\n",
       "  </tbody>\n",
       "</table>\n",
       "</div>"
      ],
      "text/plain": [
       "     X1  X2       y         y_pred\n",
       "0  2526   3  469000  392338.906658\n",
       "1  2162   4  287000  341785.077857\n",
       "2  1458   3  464500  252300.038331\n",
       "3  1200   3  299000  218470.424073\n",
       "4  3890   3  573900  571190.045607"
      ]
     },
     "execution_count": 270,
     "metadata": {},
     "output_type": "execute_result"
    }
   ],
   "source": [
    "dataset.head()"
   ]
  },
  {
   "cell_type": "code",
   "execution_count": 271,
   "metadata": {},
   "outputs": [],
   "source": [
    "#Slicing out the Actual outout(y) and Predicted output (yhat)\n",
    "result = dataset[['y', 'y_pred']]"
   ]
  },
  {
   "cell_type": "code",
   "execution_count": 272,
   "metadata": {},
   "outputs": [
    {
     "name": "stdout",
     "output_type": "stream",
     "text": [
      "         y         y_pred          error\n",
      "0   469000  392338.906658   76661.093342\n",
      "1   287000  341785.077857  -54785.077857\n",
      "2   464500  252300.038331  212199.961669\n",
      "3   299000  218470.424073   80529.575927\n",
      "4   573900  571190.045607    2709.954393\n",
      "5   229900  223584.202972    6315.797028\n",
      "6   329999  308944.973834   21054.026166\n",
      "7   599000  455730.561543  143269.438457\n",
      "8   539900  451665.762930   88234.237070\n",
      "9   249900  205358.170484   44541.829516\n",
      "10  212000  242072.480532  -30072.480532\n",
      "11  232000  249618.117562  -17618.117562\n",
      "12  314900  262265.351059   52634.648941\n",
      "13  368500  282136.506462   86363.493538\n",
      "14  579900  472454.776085  107445.223915\n",
      "\n"
     ]
    },
    {
     "name": "stderr",
     "output_type": "stream",
     "text": [
      "C:\\Users\\odubela\\Anaconda3\\lib\\site-packages\\ipykernel_launcher.py:5: SettingWithCopyWarning: \n",
      "A value is trying to be set on a copy of a slice from a DataFrame.\n",
      "Try using .loc[row_indexer,col_indexer] = value instead\n",
      "\n",
      "See the caveats in the documentation: http://pandas.pydata.org/pandas-docs/stable/indexing.html#indexing-view-versus-copy\n",
      "  \"\"\"\n"
     ]
    }
   ],
   "source": [
    "#creating a column in the result to store mean errors from all observations\n",
    "n = len(dataset)\n",
    "\n",
    "#Error from each prediction\n",
    "result['error'] = dataset['y'].subtract(dataset['y_pred'])\n",
    "\n",
    "print(result)\n",
    "\n",
    "#summation of all error function from all predictions\n",
    "cost_function = abs(result['error']).sum()\n",
    "\n",
    "Mean_Absolute_Error = cost_function / n\n",
    "\n",
    "\n",
    "\n",
    "\n",
    "print()\n"
   ]
  },
  {
   "cell_type": "code",
   "execution_count": 273,
   "metadata": {},
   "outputs": [
    {
     "name": "stdout",
     "output_type": "stream",
     "text": [
      "1024434.9559135605\n",
      "68295.6637275707\n"
     ]
    }
   ],
   "source": [
    "print(cost_function)\n",
    "print(Mean_Absolute_Error)"
   ]
  },
  {
   "cell_type": "code",
   "execution_count": 274,
   "metadata": {},
   "outputs": [
    {
     "data": {
      "text/plain": [
       "array([392338.90665807, 341785.07785735, 252300.03833143, 218470.42407275,\n",
       "       571190.04560707, 223584.20297232, 308944.97383434, 455730.5615426 ,\n",
       "       451665.76293013, 205358.17048411, 242072.4805323 , 249618.11756229,\n",
       "       262265.3510588 , 282136.50646211, 472454.77608464])"
      ]
     },
     "execution_count": 274,
     "metadata": {},
     "output_type": "execute_result"
    }
   ],
   "source": [
    "predictions"
   ]
  },
  {
   "cell_type": "code",
   "execution_count": 227,
   "metadata": {},
   "outputs": [],
   "source": [
    "X_skl1 = X_skl[:,:-1]"
   ]
  },
  {
   "cell_type": "code",
   "execution_count": 230,
   "metadata": {},
   "outputs": [
    {
     "name": "stderr",
     "output_type": "stream",
     "text": [
      "C:\\Users\\odubela\\Anaconda3\\lib\\site-packages\\sklearn\\utils\\validation.py:595: DataConversionWarning: Data with input dtype int64 was converted to float64 by StandardScaler.\n",
      "  warnings.warn(msg, DataConversionWarning)\n",
      "C:\\Users\\odubela\\Anaconda3\\lib\\site-packages\\sklearn\\utils\\validation.py:595: DataConversionWarning: Data with input dtype int64 was converted to float64 by StandardScaler.\n",
      "  warnings.warn(msg, DataConversionWarning)\n"
     ]
    },
    {
     "data": {
      "text/plain": [
       "(47, 1)"
      ]
     },
     "execution_count": 230,
     "metadata": {},
     "output_type": "execute_result"
    }
   ],
   "source": [
    "from sklearn.preprocessing import StandardScaler\n",
    "StandSc = StandardScaler()\n",
    "StandSc = StandSc.fit(X_skl1)\n",
    "X_StandSc = StandSc.transform(X_skl1)\n",
    "X_StandSc.shape"
   ]
  },
  {
   "cell_type": "code",
   "execution_count": 232,
   "metadata": {},
   "outputs": [],
   "source": [
    "#creating a dataset from the test data\n",
    "X = pd.DataFrame(X_skl, columns = ['X1','X2']) "
   ]
  },
  {
   "cell_type": "code",
   "execution_count": 234,
   "metadata": {},
   "outputs": [],
   "source": [
    "X ['X1_StdSc'] = X_StandSc"
   ]
  },
  {
   "cell_type": "code",
   "execution_count": 239,
   "metadata": {},
   "outputs": [],
   "source": [
    "X_std = X.iloc[:,1:3]"
   ]
  },
  {
   "cell_type": "code",
   "execution_count": 242,
   "metadata": {},
   "outputs": [],
   "source": [
    "X_sctrain, X_sctest, y_sctrain, y_sctest = train_test_split(\n",
    "                        X_std, y_skl, test_size=0.3, random_state = 42)"
   ]
  },
  {
   "cell_type": "code",
   "execution_count": 246,
   "metadata": {},
   "outputs": [],
   "source": [
    "lr1= linear_model.LinearRegression()\n",
    "model1 = lr1.fit(X_sctrain, y_sctrain)"
   ]
  },
  {
   "cell_type": "code",
   "execution_count": 247,
   "metadata": {},
   "outputs": [],
   "source": [
    "predictions1 = model1.predict(X_sctest)"
   ]
  },
  {
   "cell_type": "code",
   "execution_count": 248,
   "metadata": {},
   "outputs": [
    {
     "name": "stdout",
     "output_type": "stream",
     "text": [
      "MAE: 68295.66372757075\n",
      "MSE: 7611089615.010212\n",
      "RMSE: 87241.55899002614\n"
     ]
    }
   ],
   "source": [
    "print('MAE:', metrics.mean_absolute_error(y_sctest, predictions1))\n",
    "print('MSE:', metrics.mean_squared_error(y_sctest, predictions1))\n",
    "print('RMSE:', np.sqrt(metrics.mean_squared_error(y_sctest, predictions1)))"
   ]
  },
  {
   "cell_type": "code",
   "execution_count": 249,
   "metadata": {},
   "outputs": [
    {
     "name": "stdout",
     "output_type": "stream",
     "text": [
      "[[392338.90665807 341785.07785735 252300.03833143 218470.42407275\n",
      "  571190.04560707 223584.20297232 308944.97383434 455730.5615426\n",
      "  451665.76293013 205358.17048411 242072.4805323  249618.11756229\n",
      "  262265.3510588  282136.50646211 472454.77608464]\n",
      " [469000.         287000.         464500.         299000.\n",
      "  573900.         229900.         329999.         599000.\n",
      "  539900.         249900.         212000.         232000.\n",
      "  314900.         368500.         579900.        ]]\n"
     ]
    }
   ],
   "source": [
    "result = np.array([predictions1, y_sctest])\n",
    "print(result)"
   ]
  },
  {
   "cell_type": "code",
   "execution_count": 254,
   "metadata": {},
   "outputs": [
    {
     "data": {
      "text/html": [
       "<div>\n",
       "<style scoped>\n",
       "    .dataframe tbody tr th:only-of-type {\n",
       "        vertical-align: middle;\n",
       "    }\n",
       "\n",
       "    .dataframe tbody tr th {\n",
       "        vertical-align: top;\n",
       "    }\n",
       "\n",
       "    .dataframe thead th {\n",
       "        text-align: right;\n",
       "    }\n",
       "</style>\n",
       "<table border=\"1\" class=\"dataframe\">\n",
       "  <thead>\n",
       "    <tr style=\"text-align: right;\">\n",
       "      <th></th>\n",
       "      <th>X2</th>\n",
       "      <th>y</th>\n",
       "      <th>y_pred</th>\n",
       "      <th>error</th>\n",
       "    </tr>\n",
       "  </thead>\n",
       "  <tbody>\n",
       "    <tr>\n",
       "      <th>27</th>\n",
       "      <td>3</td>\n",
       "      <td>469000</td>\n",
       "      <td>392338.906658</td>\n",
       "      <td>76661.093342</td>\n",
       "    </tr>\n",
       "    <tr>\n",
       "      <th>39</th>\n",
       "      <td>4</td>\n",
       "      <td>287000</td>\n",
       "      <td>341785.077857</td>\n",
       "      <td>-54785.077857</td>\n",
       "    </tr>\n",
       "    <tr>\n",
       "      <th>26</th>\n",
       "      <td>3</td>\n",
       "      <td>464500</td>\n",
       "      <td>252300.038331</td>\n",
       "      <td>212199.961669</td>\n",
       "    </tr>\n",
       "    <tr>\n",
       "      <th>43</th>\n",
       "      <td>3</td>\n",
       "      <td>299000</td>\n",
       "      <td>218470.424073</td>\n",
       "      <td>80529.575927</td>\n",
       "    </tr>\n",
       "    <tr>\n",
       "      <th>24</th>\n",
       "      <td>3</td>\n",
       "      <td>573900</td>\n",
       "      <td>571190.045607</td>\n",
       "      <td>2709.954393</td>\n",
       "    </tr>\n",
       "  </tbody>\n",
       "</table>\n",
       "</div>"
      ],
      "text/plain": [
       "    X2       y         y_pred          error\n",
       "27   3  469000  392338.906658   76661.093342\n",
       "39   4  287000  341785.077857  -54785.077857\n",
       "26   3  464500  252300.038331  212199.961669\n",
       "43   3  299000  218470.424073   80529.575927\n",
       "24   3  573900  571190.045607    2709.954393"
      ]
     },
     "execution_count": 254,
     "metadata": {},
     "output_type": "execute_result"
    }
   ],
   "source": [
    "#creating a dataset from the test data\n",
    "dataset1= pd.DataFrame(X_sctest, columns = ['X2']) \n",
    "dataset1['y'] = y_sctest\n",
    "dataset1['y_pred'] = predictions1\n",
    "dataset1['error'] = y_sctest - predictions1\n",
    "dataset1.head()"
   ]
  },
  {
   "cell_type": "code",
   "execution_count": null,
   "metadata": {},
   "outputs": [],
   "source": []
  }
 ],
 "metadata": {
  "kernelspec": {
   "display_name": "Python 3",
   "language": "python",
   "name": "python3"
  },
  "language_info": {
   "codemirror_mode": {
    "name": "ipython",
    "version": 3
   },
   "file_extension": ".py",
   "mimetype": "text/x-python",
   "name": "python",
   "nbconvert_exporter": "python",
   "pygments_lexer": "ipython3",
   "version": "3.7.1"
  }
 },
 "nbformat": 4,
 "nbformat_minor": 2
}
